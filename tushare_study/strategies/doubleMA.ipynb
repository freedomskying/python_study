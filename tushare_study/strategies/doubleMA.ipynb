{
 "cells": [
  {
   "cell_type": "code",
   "execution_count": 39,
   "metadata": {
    "collapsed": true
   },
   "outputs": [],
   "source": [
    "import pandas as pd\n",
    "import numpy as np\n",
    "import matplotlib.pyplot as plt\n",
    "import tushare as ts\n",
    "\n",
    "with open('D:/tushare_token.txt', 'r') as f:\n",
    "    token = f.readline()\n",
    "\n",
    "ts.set_token(token)\n"
   ]
  },
  {
   "cell_type": "code",
   "execution_count": 40,
   "outputs": [
    {
     "data": {
      "text/plain": "       ts_code trade_date   open   high    low  close  pre_close  change  \\\n0    688981.SH   20210309  56.50  56.56  53.57  54.58      56.66   -2.08   \n1    688981.SH   20210308  58.99  59.16  56.58  56.66      58.52   -1.86   \n2    688981.SH   20210305  58.00  58.91  57.71  58.52      59.31   -0.79   \n3    688981.SH   20210304  60.31  61.60  58.96  59.31      58.67    0.64   \n4    688981.SH   20210303  58.21  58.80  57.80  58.67      58.49    0.18   \n..         ...        ...    ...    ...    ...    ...        ...     ...   \n152  688981.SH   20200722  77.80  81.78  77.20  79.57      78.63    0.94   \n153  688981.SH   20200721  78.30  82.89  77.77  78.63      79.17   -0.54   \n154  688981.SH   20200720  77.19  80.51  70.02  79.17      77.06    2.11   \n155  688981.SH   20200717  79.00  84.90  75.00  77.06      82.92   -5.86   \n156  688981.SH   20200716  95.00  95.00  80.00  82.92      27.46   55.46   \n\n      pct_chg         vol        amount     ma5       ma_v_5    ma10  \\\n0     -3.6710   295620.11  1.630197e+06  57.548   346840.106  57.279   \n1     -3.1784   299902.37  1.735926e+06  58.330   379723.316  57.560   \n2     -1.3320   281584.57  1.642365e+06  58.548   379065.710  57.642   \n3      1.0908   621415.96  3.751645e+06  57.876   367356.998  57.630   \n4      0.3077   235677.52  1.375470e+06  57.266   286231.096  57.493   \n..        ...         ...           ...     ...          ...     ...   \n152    1.1955  1339427.90  1.068249e+07  79.470  2591949.778     NaN   \n153   -0.6821  1618732.71  1.297766e+07     NaN          NaN     NaN   \n154    2.7381  2285833.38  1.700523e+07     NaN          NaN     NaN   \n155   -7.0671  2194715.88  1.738815e+07     NaN          NaN     NaN   \n156  201.9665  5521039.02  4.796717e+07     NaN          NaN     NaN   \n\n        ma_v_10     ma20      ma_v_20     ma30      ma_v_30  \n0    321535.676  56.2200  321406.7915  56.7003  332743.2793  \n1    318281.627  56.2900  316733.3400  56.8970  338193.5693  \n2    323748.279  56.3080  311809.4590  57.0643  350234.8923  \n3    324246.528  56.1910  310640.7245  57.1670  361801.5340  \n4    320506.933  56.0275  292387.0220  57.3280  364206.0937  \n..          ...      ...          ...      ...          ...  \n152         NaN      NaN          NaN      NaN          NaN  \n153         NaN      NaN          NaN      NaN          NaN  \n154         NaN      NaN          NaN      NaN          NaN  \n155         NaN      NaN          NaN      NaN          NaN  \n156         NaN      NaN          NaN      NaN          NaN  \n\n[157 rows x 19 columns]",
      "text/html": "<div>\n<style scoped>\n    .dataframe tbody tr th:only-of-type {\n        vertical-align: middle;\n    }\n\n    .dataframe tbody tr th {\n        vertical-align: top;\n    }\n\n    .dataframe thead th {\n        text-align: right;\n    }\n</style>\n<table border=\"1\" class=\"dataframe\">\n  <thead>\n    <tr style=\"text-align: right;\">\n      <th></th>\n      <th>ts_code</th>\n      <th>trade_date</th>\n      <th>open</th>\n      <th>high</th>\n      <th>low</th>\n      <th>close</th>\n      <th>pre_close</th>\n      <th>change</th>\n      <th>pct_chg</th>\n      <th>vol</th>\n      <th>amount</th>\n      <th>ma5</th>\n      <th>ma_v_5</th>\n      <th>ma10</th>\n      <th>ma_v_10</th>\n      <th>ma20</th>\n      <th>ma_v_20</th>\n      <th>ma30</th>\n      <th>ma_v_30</th>\n    </tr>\n  </thead>\n  <tbody>\n    <tr>\n      <th>0</th>\n      <td>688981.SH</td>\n      <td>20210309</td>\n      <td>56.50</td>\n      <td>56.56</td>\n      <td>53.57</td>\n      <td>54.58</td>\n      <td>56.66</td>\n      <td>-2.08</td>\n      <td>-3.6710</td>\n      <td>295620.11</td>\n      <td>1.630197e+06</td>\n      <td>57.548</td>\n      <td>346840.106</td>\n      <td>57.279</td>\n      <td>321535.676</td>\n      <td>56.2200</td>\n      <td>321406.7915</td>\n      <td>56.7003</td>\n      <td>332743.2793</td>\n    </tr>\n    <tr>\n      <th>1</th>\n      <td>688981.SH</td>\n      <td>20210308</td>\n      <td>58.99</td>\n      <td>59.16</td>\n      <td>56.58</td>\n      <td>56.66</td>\n      <td>58.52</td>\n      <td>-1.86</td>\n      <td>-3.1784</td>\n      <td>299902.37</td>\n      <td>1.735926e+06</td>\n      <td>58.330</td>\n      <td>379723.316</td>\n      <td>57.560</td>\n      <td>318281.627</td>\n      <td>56.2900</td>\n      <td>316733.3400</td>\n      <td>56.8970</td>\n      <td>338193.5693</td>\n    </tr>\n    <tr>\n      <th>2</th>\n      <td>688981.SH</td>\n      <td>20210305</td>\n      <td>58.00</td>\n      <td>58.91</td>\n      <td>57.71</td>\n      <td>58.52</td>\n      <td>59.31</td>\n      <td>-0.79</td>\n      <td>-1.3320</td>\n      <td>281584.57</td>\n      <td>1.642365e+06</td>\n      <td>58.548</td>\n      <td>379065.710</td>\n      <td>57.642</td>\n      <td>323748.279</td>\n      <td>56.3080</td>\n      <td>311809.4590</td>\n      <td>57.0643</td>\n      <td>350234.8923</td>\n    </tr>\n    <tr>\n      <th>3</th>\n      <td>688981.SH</td>\n      <td>20210304</td>\n      <td>60.31</td>\n      <td>61.60</td>\n      <td>58.96</td>\n      <td>59.31</td>\n      <td>58.67</td>\n      <td>0.64</td>\n      <td>1.0908</td>\n      <td>621415.96</td>\n      <td>3.751645e+06</td>\n      <td>57.876</td>\n      <td>367356.998</td>\n      <td>57.630</td>\n      <td>324246.528</td>\n      <td>56.1910</td>\n      <td>310640.7245</td>\n      <td>57.1670</td>\n      <td>361801.5340</td>\n    </tr>\n    <tr>\n      <th>4</th>\n      <td>688981.SH</td>\n      <td>20210303</td>\n      <td>58.21</td>\n      <td>58.80</td>\n      <td>57.80</td>\n      <td>58.67</td>\n      <td>58.49</td>\n      <td>0.18</td>\n      <td>0.3077</td>\n      <td>235677.52</td>\n      <td>1.375470e+06</td>\n      <td>57.266</td>\n      <td>286231.096</td>\n      <td>57.493</td>\n      <td>320506.933</td>\n      <td>56.0275</td>\n      <td>292387.0220</td>\n      <td>57.3280</td>\n      <td>364206.0937</td>\n    </tr>\n    <tr>\n      <th>...</th>\n      <td>...</td>\n      <td>...</td>\n      <td>...</td>\n      <td>...</td>\n      <td>...</td>\n      <td>...</td>\n      <td>...</td>\n      <td>...</td>\n      <td>...</td>\n      <td>...</td>\n      <td>...</td>\n      <td>...</td>\n      <td>...</td>\n      <td>...</td>\n      <td>...</td>\n      <td>...</td>\n      <td>...</td>\n      <td>...</td>\n      <td>...</td>\n    </tr>\n    <tr>\n      <th>152</th>\n      <td>688981.SH</td>\n      <td>20200722</td>\n      <td>77.80</td>\n      <td>81.78</td>\n      <td>77.20</td>\n      <td>79.57</td>\n      <td>78.63</td>\n      <td>0.94</td>\n      <td>1.1955</td>\n      <td>1339427.90</td>\n      <td>1.068249e+07</td>\n      <td>79.470</td>\n      <td>2591949.778</td>\n      <td>NaN</td>\n      <td>NaN</td>\n      <td>NaN</td>\n      <td>NaN</td>\n      <td>NaN</td>\n      <td>NaN</td>\n    </tr>\n    <tr>\n      <th>153</th>\n      <td>688981.SH</td>\n      <td>20200721</td>\n      <td>78.30</td>\n      <td>82.89</td>\n      <td>77.77</td>\n      <td>78.63</td>\n      <td>79.17</td>\n      <td>-0.54</td>\n      <td>-0.6821</td>\n      <td>1618732.71</td>\n      <td>1.297766e+07</td>\n      <td>NaN</td>\n      <td>NaN</td>\n      <td>NaN</td>\n      <td>NaN</td>\n      <td>NaN</td>\n      <td>NaN</td>\n      <td>NaN</td>\n      <td>NaN</td>\n    </tr>\n    <tr>\n      <th>154</th>\n      <td>688981.SH</td>\n      <td>20200720</td>\n      <td>77.19</td>\n      <td>80.51</td>\n      <td>70.02</td>\n      <td>79.17</td>\n      <td>77.06</td>\n      <td>2.11</td>\n      <td>2.7381</td>\n      <td>2285833.38</td>\n      <td>1.700523e+07</td>\n      <td>NaN</td>\n      <td>NaN</td>\n      <td>NaN</td>\n      <td>NaN</td>\n      <td>NaN</td>\n      <td>NaN</td>\n      <td>NaN</td>\n      <td>NaN</td>\n    </tr>\n    <tr>\n      <th>155</th>\n      <td>688981.SH</td>\n      <td>20200717</td>\n      <td>79.00</td>\n      <td>84.90</td>\n      <td>75.00</td>\n      <td>77.06</td>\n      <td>82.92</td>\n      <td>-5.86</td>\n      <td>-7.0671</td>\n      <td>2194715.88</td>\n      <td>1.738815e+07</td>\n      <td>NaN</td>\n      <td>NaN</td>\n      <td>NaN</td>\n      <td>NaN</td>\n      <td>NaN</td>\n      <td>NaN</td>\n      <td>NaN</td>\n      <td>NaN</td>\n    </tr>\n    <tr>\n      <th>156</th>\n      <td>688981.SH</td>\n      <td>20200716</td>\n      <td>95.00</td>\n      <td>95.00</td>\n      <td>80.00</td>\n      <td>82.92</td>\n      <td>27.46</td>\n      <td>55.46</td>\n      <td>201.9665</td>\n      <td>5521039.02</td>\n      <td>4.796717e+07</td>\n      <td>NaN</td>\n      <td>NaN</td>\n      <td>NaN</td>\n      <td>NaN</td>\n      <td>NaN</td>\n      <td>NaN</td>\n      <td>NaN</td>\n      <td>NaN</td>\n    </tr>\n  </tbody>\n</table>\n<p>157 rows × 19 columns</p>\n</div>"
     },
     "execution_count": 40,
     "metadata": {},
     "output_type": "execute_result"
    }
   ],
   "source": [
    "# 前复权\n",
    "dfb = ts.pro_bar(ts_code= '688981.SH', asset = 'E', adj = 'qfq', freq = 'D', ma=[5, 10, 20, 30])\n",
    "dfb"
   ],
   "metadata": {
    "collapsed": false,
    "pycharm": {
     "name": "#%%\n"
    }
   }
  },
  {
   "cell_type": "code",
   "execution_count": 41,
   "outputs": [
    {
     "data": {
      "text/plain": "       ts_code trade_date   open   high    low  close  pre_close  change  \\\n0    688981.SH   20210309  56.50  56.56  53.57  54.58      56.66   -2.08   \n1    688981.SH   20210308  58.99  59.16  56.58  56.66      58.52   -1.86   \n2    688981.SH   20210305  58.00  58.91  57.71  58.52      59.31   -0.79   \n3    688981.SH   20210304  60.31  61.60  58.96  59.31      58.67    0.64   \n4    688981.SH   20210303  58.21  58.80  57.80  58.67      58.49    0.18   \n..         ...        ...    ...    ...    ...    ...        ...     ...   \n152  688981.SH   20200722  77.80  81.78  77.20  79.57      78.63    0.94   \n153  688981.SH   20200721  78.30  82.89  77.77  78.63      79.17   -0.54   \n154  688981.SH   20200720  77.19  80.51  70.02  79.17      77.06    2.11   \n155  688981.SH   20200717  79.00  84.90  75.00  77.06      82.92   -5.86   \n156  688981.SH   20200716  95.00  95.00  80.00  82.92      27.46   55.46   \n\n      pct_chg         vol  ...     ma5       ma_v_5    ma10     ma_v_10  \\\n0     -3.6710   295620.11  ...  57.548   346840.106  57.279  321535.676   \n1     -3.1784   299902.37  ...  58.330   379723.316  57.560  318281.627   \n2     -1.3320   281584.57  ...  58.548   379065.710  57.642  323748.279   \n3      1.0908   621415.96  ...  57.876   367356.998  57.630  324246.528   \n4      0.3077   235677.52  ...  57.266   286231.096  57.493  320506.933   \n..        ...         ...  ...     ...          ...     ...         ...   \n152    1.1955  1339427.90  ...  79.470  2591949.778     NaN         NaN   \n153   -0.6821  1618732.71  ...     NaN          NaN     NaN         NaN   \n154    2.7381  2285833.38  ...     NaN          NaN     NaN         NaN   \n155   -7.0671  2194715.88  ...     NaN          NaN     NaN         NaN   \n156  201.9665  5521039.02  ...     NaN          NaN     NaN         NaN   \n\n        ma20      ma_v_20     ma30      ma_v_30     ma60      ma_v_60  \n0    56.2200  321406.7915  56.7003  332743.2793  57.5910  378105.3197  \n1    56.2900  316733.3400  56.8970  338193.5693  57.6868  380936.4013  \n2    56.3080  311809.4590  57.0643  350234.8923  57.7125  383863.5397  \n3    56.1910  310640.7245  57.1670  361801.5340  57.7403  382844.4517  \n4    56.0275  292387.0220  57.3280  364206.0937  57.7668  380483.4558  \n..       ...          ...      ...          ...      ...          ...  \n152      NaN          NaN      NaN          NaN      NaN          NaN  \n153      NaN          NaN      NaN          NaN      NaN          NaN  \n154      NaN          NaN      NaN          NaN      NaN          NaN  \n155      NaN          NaN      NaN          NaN      NaN          NaN  \n156      NaN          NaN      NaN          NaN      NaN          NaN  \n\n[157 rows x 21 columns]",
      "text/html": "<div>\n<style scoped>\n    .dataframe tbody tr th:only-of-type {\n        vertical-align: middle;\n    }\n\n    .dataframe tbody tr th {\n        vertical-align: top;\n    }\n\n    .dataframe thead th {\n        text-align: right;\n    }\n</style>\n<table border=\"1\" class=\"dataframe\">\n  <thead>\n    <tr style=\"text-align: right;\">\n      <th></th>\n      <th>ts_code</th>\n      <th>trade_date</th>\n      <th>open</th>\n      <th>high</th>\n      <th>low</th>\n      <th>close</th>\n      <th>pre_close</th>\n      <th>change</th>\n      <th>pct_chg</th>\n      <th>vol</th>\n      <th>...</th>\n      <th>ma5</th>\n      <th>ma_v_5</th>\n      <th>ma10</th>\n      <th>ma_v_10</th>\n      <th>ma20</th>\n      <th>ma_v_20</th>\n      <th>ma30</th>\n      <th>ma_v_30</th>\n      <th>ma60</th>\n      <th>ma_v_60</th>\n    </tr>\n  </thead>\n  <tbody>\n    <tr>\n      <th>0</th>\n      <td>688981.SH</td>\n      <td>20210309</td>\n      <td>56.50</td>\n      <td>56.56</td>\n      <td>53.57</td>\n      <td>54.58</td>\n      <td>56.66</td>\n      <td>-2.08</td>\n      <td>-3.6710</td>\n      <td>295620.11</td>\n      <td>...</td>\n      <td>57.548</td>\n      <td>346840.106</td>\n      <td>57.279</td>\n      <td>321535.676</td>\n      <td>56.2200</td>\n      <td>321406.7915</td>\n      <td>56.7003</td>\n      <td>332743.2793</td>\n      <td>57.5910</td>\n      <td>378105.3197</td>\n    </tr>\n    <tr>\n      <th>1</th>\n      <td>688981.SH</td>\n      <td>20210308</td>\n      <td>58.99</td>\n      <td>59.16</td>\n      <td>56.58</td>\n      <td>56.66</td>\n      <td>58.52</td>\n      <td>-1.86</td>\n      <td>-3.1784</td>\n      <td>299902.37</td>\n      <td>...</td>\n      <td>58.330</td>\n      <td>379723.316</td>\n      <td>57.560</td>\n      <td>318281.627</td>\n      <td>56.2900</td>\n      <td>316733.3400</td>\n      <td>56.8970</td>\n      <td>338193.5693</td>\n      <td>57.6868</td>\n      <td>380936.4013</td>\n    </tr>\n    <tr>\n      <th>2</th>\n      <td>688981.SH</td>\n      <td>20210305</td>\n      <td>58.00</td>\n      <td>58.91</td>\n      <td>57.71</td>\n      <td>58.52</td>\n      <td>59.31</td>\n      <td>-0.79</td>\n      <td>-1.3320</td>\n      <td>281584.57</td>\n      <td>...</td>\n      <td>58.548</td>\n      <td>379065.710</td>\n      <td>57.642</td>\n      <td>323748.279</td>\n      <td>56.3080</td>\n      <td>311809.4590</td>\n      <td>57.0643</td>\n      <td>350234.8923</td>\n      <td>57.7125</td>\n      <td>383863.5397</td>\n    </tr>\n    <tr>\n      <th>3</th>\n      <td>688981.SH</td>\n      <td>20210304</td>\n      <td>60.31</td>\n      <td>61.60</td>\n      <td>58.96</td>\n      <td>59.31</td>\n      <td>58.67</td>\n      <td>0.64</td>\n      <td>1.0908</td>\n      <td>621415.96</td>\n      <td>...</td>\n      <td>57.876</td>\n      <td>367356.998</td>\n      <td>57.630</td>\n      <td>324246.528</td>\n      <td>56.1910</td>\n      <td>310640.7245</td>\n      <td>57.1670</td>\n      <td>361801.5340</td>\n      <td>57.7403</td>\n      <td>382844.4517</td>\n    </tr>\n    <tr>\n      <th>4</th>\n      <td>688981.SH</td>\n      <td>20210303</td>\n      <td>58.21</td>\n      <td>58.80</td>\n      <td>57.80</td>\n      <td>58.67</td>\n      <td>58.49</td>\n      <td>0.18</td>\n      <td>0.3077</td>\n      <td>235677.52</td>\n      <td>...</td>\n      <td>57.266</td>\n      <td>286231.096</td>\n      <td>57.493</td>\n      <td>320506.933</td>\n      <td>56.0275</td>\n      <td>292387.0220</td>\n      <td>57.3280</td>\n      <td>364206.0937</td>\n      <td>57.7668</td>\n      <td>380483.4558</td>\n    </tr>\n    <tr>\n      <th>...</th>\n      <td>...</td>\n      <td>...</td>\n      <td>...</td>\n      <td>...</td>\n      <td>...</td>\n      <td>...</td>\n      <td>...</td>\n      <td>...</td>\n      <td>...</td>\n      <td>...</td>\n      <td>...</td>\n      <td>...</td>\n      <td>...</td>\n      <td>...</td>\n      <td>...</td>\n      <td>...</td>\n      <td>...</td>\n      <td>...</td>\n      <td>...</td>\n      <td>...</td>\n      <td>...</td>\n    </tr>\n    <tr>\n      <th>152</th>\n      <td>688981.SH</td>\n      <td>20200722</td>\n      <td>77.80</td>\n      <td>81.78</td>\n      <td>77.20</td>\n      <td>79.57</td>\n      <td>78.63</td>\n      <td>0.94</td>\n      <td>1.1955</td>\n      <td>1339427.90</td>\n      <td>...</td>\n      <td>79.470</td>\n      <td>2591949.778</td>\n      <td>NaN</td>\n      <td>NaN</td>\n      <td>NaN</td>\n      <td>NaN</td>\n      <td>NaN</td>\n      <td>NaN</td>\n      <td>NaN</td>\n      <td>NaN</td>\n    </tr>\n    <tr>\n      <th>153</th>\n      <td>688981.SH</td>\n      <td>20200721</td>\n      <td>78.30</td>\n      <td>82.89</td>\n      <td>77.77</td>\n      <td>78.63</td>\n      <td>79.17</td>\n      <td>-0.54</td>\n      <td>-0.6821</td>\n      <td>1618732.71</td>\n      <td>...</td>\n      <td>NaN</td>\n      <td>NaN</td>\n      <td>NaN</td>\n      <td>NaN</td>\n      <td>NaN</td>\n      <td>NaN</td>\n      <td>NaN</td>\n      <td>NaN</td>\n      <td>NaN</td>\n      <td>NaN</td>\n    </tr>\n    <tr>\n      <th>154</th>\n      <td>688981.SH</td>\n      <td>20200720</td>\n      <td>77.19</td>\n      <td>80.51</td>\n      <td>70.02</td>\n      <td>79.17</td>\n      <td>77.06</td>\n      <td>2.11</td>\n      <td>2.7381</td>\n      <td>2285833.38</td>\n      <td>...</td>\n      <td>NaN</td>\n      <td>NaN</td>\n      <td>NaN</td>\n      <td>NaN</td>\n      <td>NaN</td>\n      <td>NaN</td>\n      <td>NaN</td>\n      <td>NaN</td>\n      <td>NaN</td>\n      <td>NaN</td>\n    </tr>\n    <tr>\n      <th>155</th>\n      <td>688981.SH</td>\n      <td>20200717</td>\n      <td>79.00</td>\n      <td>84.90</td>\n      <td>75.00</td>\n      <td>77.06</td>\n      <td>82.92</td>\n      <td>-5.86</td>\n      <td>-7.0671</td>\n      <td>2194715.88</td>\n      <td>...</td>\n      <td>NaN</td>\n      <td>NaN</td>\n      <td>NaN</td>\n      <td>NaN</td>\n      <td>NaN</td>\n      <td>NaN</td>\n      <td>NaN</td>\n      <td>NaN</td>\n      <td>NaN</td>\n      <td>NaN</td>\n    </tr>\n    <tr>\n      <th>156</th>\n      <td>688981.SH</td>\n      <td>20200716</td>\n      <td>95.00</td>\n      <td>95.00</td>\n      <td>80.00</td>\n      <td>82.92</td>\n      <td>27.46</td>\n      <td>55.46</td>\n      <td>201.9665</td>\n      <td>5521039.02</td>\n      <td>...</td>\n      <td>NaN</td>\n      <td>NaN</td>\n      <td>NaN</td>\n      <td>NaN</td>\n      <td>NaN</td>\n      <td>NaN</td>\n      <td>NaN</td>\n      <td>NaN</td>\n      <td>NaN</td>\n      <td>NaN</td>\n    </tr>\n  </tbody>\n</table>\n<p>157 rows × 21 columns</p>\n</div>"
     },
     "execution_count": 41,
     "metadata": {},
     "output_type": "execute_result"
    }
   ],
   "source": [
    "#通用行情接口获取股票的数据\n",
    "#pro=ts.pro_api('7240fde9e07a9cc82db49161b8f85769186c321ca754a13ded7722f0')\n",
    "dfa=ts.pro_bar(ts_code='688981.SH',ma=[5, 10, 20, 30, 60])#未复权\n",
    "dfa"
   ],
   "metadata": {
    "collapsed": false,
    "pycharm": {
     "name": "#%%\n"
    }
   }
  },
  {
   "cell_type": "code",
   "execution_count": 42,
   "outputs": [
    {
     "name": "stdout",
     "output_type": "stream",
     "text": [
      "0      20210309\n",
      "1      20210308\n",
      "2      20210305\n",
      "3      20210304\n",
      "4      20210303\n",
      "         ...   \n",
      "152    20200722\n",
      "153    20200721\n",
      "154    20200720\n",
      "155    20200717\n",
      "156    20200716\n",
      "Name: trade_date, Length: 157, dtype: object\n"
     ]
    },
    {
     "data": {
      "text/plain": "0     2021-03-09\n1     2021-03-08\n2     2021-03-05\n3     2021-03-04\n4     2021-03-03\n         ...    \n152   2020-07-22\n153   2020-07-21\n154   2020-07-20\n155   2020-07-17\n156   2020-07-16\nName: trade_date, Length: 157, dtype: datetime64[ns]"
     },
     "execution_count": 42,
     "metadata": {},
     "output_type": "execute_result"
    }
   ],
   "source": [
    "#将trade_date转化为时间序列对象\n",
    "print(dfa['trade_date'])\n",
    "dfa['trade_date']=pd.to_datetime(dfa['trade_date'],format='%Y%m%d')\n",
    "\n",
    "dfa['trade_date']"
   ],
   "metadata": {
    "collapsed": false,
    "pycharm": {
     "name": "#%%\n"
    }
   }
  },
  {
   "cell_type": "code",
   "execution_count": 43,
   "outputs": [
    {
     "data": {
      "text/plain": "              ts_code   open   high    low  close  pre_close  change  \\\ntrade_date                                                             \n2021-03-09  688981.SH  56.50  56.56  53.57  54.58      56.66   -2.08   \n2021-03-08  688981.SH  58.99  59.16  56.58  56.66      58.52   -1.86   \n2021-03-05  688981.SH  58.00  58.91  57.71  58.52      59.31   -0.79   \n2021-03-04  688981.SH  60.31  61.60  58.96  59.31      58.67    0.64   \n2021-03-03  688981.SH  58.21  58.80  57.80  58.67      58.49    0.18   \n...               ...    ...    ...    ...    ...        ...     ...   \n2020-07-22  688981.SH  77.80  81.78  77.20  79.57      78.63    0.94   \n2020-07-21  688981.SH  78.30  82.89  77.77  78.63      79.17   -0.54   \n2020-07-20  688981.SH  77.19  80.51  70.02  79.17      77.06    2.11   \n2020-07-17  688981.SH  79.00  84.90  75.00  77.06      82.92   -5.86   \n2020-07-16  688981.SH  95.00  95.00  80.00  82.92      27.46   55.46   \n\n             pct_chg         vol        amount     ma5       ma_v_5    ma10  \\\ntrade_date                                                                    \n2021-03-09   -3.6710   295620.11  1.630197e+06  57.548   346840.106  57.279   \n2021-03-08   -3.1784   299902.37  1.735926e+06  58.330   379723.316  57.560   \n2021-03-05   -1.3320   281584.57  1.642365e+06  58.548   379065.710  57.642   \n2021-03-04    1.0908   621415.96  3.751645e+06  57.876   367356.998  57.630   \n2021-03-03    0.3077   235677.52  1.375470e+06  57.266   286231.096  57.493   \n...              ...         ...           ...     ...          ...     ...   \n2020-07-22    1.1955  1339427.90  1.068249e+07  79.470  2591949.778     NaN   \n2020-07-21   -0.6821  1618732.71  1.297766e+07     NaN          NaN     NaN   \n2020-07-20    2.7381  2285833.38  1.700523e+07     NaN          NaN     NaN   \n2020-07-17   -7.0671  2194715.88  1.738815e+07     NaN          NaN     NaN   \n2020-07-16  201.9665  5521039.02  4.796717e+07     NaN          NaN     NaN   \n\n               ma_v_10     ma20      ma_v_20     ma30      ma_v_30     ma60  \\\ntrade_date                                                                    \n2021-03-09  321535.676  56.2200  321406.7915  56.7003  332743.2793  57.5910   \n2021-03-08  318281.627  56.2900  316733.3400  56.8970  338193.5693  57.6868   \n2021-03-05  323748.279  56.3080  311809.4590  57.0643  350234.8923  57.7125   \n2021-03-04  324246.528  56.1910  310640.7245  57.1670  361801.5340  57.7403   \n2021-03-03  320506.933  56.0275  292387.0220  57.3280  364206.0937  57.7668   \n...                ...      ...          ...      ...          ...      ...   \n2020-07-22         NaN      NaN          NaN      NaN          NaN      NaN   \n2020-07-21         NaN      NaN          NaN      NaN          NaN      NaN   \n2020-07-20         NaN      NaN          NaN      NaN          NaN      NaN   \n2020-07-17         NaN      NaN          NaN      NaN          NaN      NaN   \n2020-07-16         NaN      NaN          NaN      NaN          NaN      NaN   \n\n                ma_v_60  \ntrade_date               \n2021-03-09  378105.3197  \n2021-03-08  380936.4013  \n2021-03-05  383863.5397  \n2021-03-04  382844.4517  \n2021-03-03  380483.4558  \n...                 ...  \n2020-07-22          NaN  \n2020-07-21          NaN  \n2020-07-20          NaN  \n2020-07-17          NaN  \n2020-07-16          NaN  \n\n[157 rows x 20 columns]",
      "text/html": "<div>\n<style scoped>\n    .dataframe tbody tr th:only-of-type {\n        vertical-align: middle;\n    }\n\n    .dataframe tbody tr th {\n        vertical-align: top;\n    }\n\n    .dataframe thead th {\n        text-align: right;\n    }\n</style>\n<table border=\"1\" class=\"dataframe\">\n  <thead>\n    <tr style=\"text-align: right;\">\n      <th></th>\n      <th>ts_code</th>\n      <th>open</th>\n      <th>high</th>\n      <th>low</th>\n      <th>close</th>\n      <th>pre_close</th>\n      <th>change</th>\n      <th>pct_chg</th>\n      <th>vol</th>\n      <th>amount</th>\n      <th>ma5</th>\n      <th>ma_v_5</th>\n      <th>ma10</th>\n      <th>ma_v_10</th>\n      <th>ma20</th>\n      <th>ma_v_20</th>\n      <th>ma30</th>\n      <th>ma_v_30</th>\n      <th>ma60</th>\n      <th>ma_v_60</th>\n    </tr>\n    <tr>\n      <th>trade_date</th>\n      <th></th>\n      <th></th>\n      <th></th>\n      <th></th>\n      <th></th>\n      <th></th>\n      <th></th>\n      <th></th>\n      <th></th>\n      <th></th>\n      <th></th>\n      <th></th>\n      <th></th>\n      <th></th>\n      <th></th>\n      <th></th>\n      <th></th>\n      <th></th>\n      <th></th>\n      <th></th>\n    </tr>\n  </thead>\n  <tbody>\n    <tr>\n      <th>2021-03-09</th>\n      <td>688981.SH</td>\n      <td>56.50</td>\n      <td>56.56</td>\n      <td>53.57</td>\n      <td>54.58</td>\n      <td>56.66</td>\n      <td>-2.08</td>\n      <td>-3.6710</td>\n      <td>295620.11</td>\n      <td>1.630197e+06</td>\n      <td>57.548</td>\n      <td>346840.106</td>\n      <td>57.279</td>\n      <td>321535.676</td>\n      <td>56.2200</td>\n      <td>321406.7915</td>\n      <td>56.7003</td>\n      <td>332743.2793</td>\n      <td>57.5910</td>\n      <td>378105.3197</td>\n    </tr>\n    <tr>\n      <th>2021-03-08</th>\n      <td>688981.SH</td>\n      <td>58.99</td>\n      <td>59.16</td>\n      <td>56.58</td>\n      <td>56.66</td>\n      <td>58.52</td>\n      <td>-1.86</td>\n      <td>-3.1784</td>\n      <td>299902.37</td>\n      <td>1.735926e+06</td>\n      <td>58.330</td>\n      <td>379723.316</td>\n      <td>57.560</td>\n      <td>318281.627</td>\n      <td>56.2900</td>\n      <td>316733.3400</td>\n      <td>56.8970</td>\n      <td>338193.5693</td>\n      <td>57.6868</td>\n      <td>380936.4013</td>\n    </tr>\n    <tr>\n      <th>2021-03-05</th>\n      <td>688981.SH</td>\n      <td>58.00</td>\n      <td>58.91</td>\n      <td>57.71</td>\n      <td>58.52</td>\n      <td>59.31</td>\n      <td>-0.79</td>\n      <td>-1.3320</td>\n      <td>281584.57</td>\n      <td>1.642365e+06</td>\n      <td>58.548</td>\n      <td>379065.710</td>\n      <td>57.642</td>\n      <td>323748.279</td>\n      <td>56.3080</td>\n      <td>311809.4590</td>\n      <td>57.0643</td>\n      <td>350234.8923</td>\n      <td>57.7125</td>\n      <td>383863.5397</td>\n    </tr>\n    <tr>\n      <th>2021-03-04</th>\n      <td>688981.SH</td>\n      <td>60.31</td>\n      <td>61.60</td>\n      <td>58.96</td>\n      <td>59.31</td>\n      <td>58.67</td>\n      <td>0.64</td>\n      <td>1.0908</td>\n      <td>621415.96</td>\n      <td>3.751645e+06</td>\n      <td>57.876</td>\n      <td>367356.998</td>\n      <td>57.630</td>\n      <td>324246.528</td>\n      <td>56.1910</td>\n      <td>310640.7245</td>\n      <td>57.1670</td>\n      <td>361801.5340</td>\n      <td>57.7403</td>\n      <td>382844.4517</td>\n    </tr>\n    <tr>\n      <th>2021-03-03</th>\n      <td>688981.SH</td>\n      <td>58.21</td>\n      <td>58.80</td>\n      <td>57.80</td>\n      <td>58.67</td>\n      <td>58.49</td>\n      <td>0.18</td>\n      <td>0.3077</td>\n      <td>235677.52</td>\n      <td>1.375470e+06</td>\n      <td>57.266</td>\n      <td>286231.096</td>\n      <td>57.493</td>\n      <td>320506.933</td>\n      <td>56.0275</td>\n      <td>292387.0220</td>\n      <td>57.3280</td>\n      <td>364206.0937</td>\n      <td>57.7668</td>\n      <td>380483.4558</td>\n    </tr>\n    <tr>\n      <th>...</th>\n      <td>...</td>\n      <td>...</td>\n      <td>...</td>\n      <td>...</td>\n      <td>...</td>\n      <td>...</td>\n      <td>...</td>\n      <td>...</td>\n      <td>...</td>\n      <td>...</td>\n      <td>...</td>\n      <td>...</td>\n      <td>...</td>\n      <td>...</td>\n      <td>...</td>\n      <td>...</td>\n      <td>...</td>\n      <td>...</td>\n      <td>...</td>\n      <td>...</td>\n    </tr>\n    <tr>\n      <th>2020-07-22</th>\n      <td>688981.SH</td>\n      <td>77.80</td>\n      <td>81.78</td>\n      <td>77.20</td>\n      <td>79.57</td>\n      <td>78.63</td>\n      <td>0.94</td>\n      <td>1.1955</td>\n      <td>1339427.90</td>\n      <td>1.068249e+07</td>\n      <td>79.470</td>\n      <td>2591949.778</td>\n      <td>NaN</td>\n      <td>NaN</td>\n      <td>NaN</td>\n      <td>NaN</td>\n      <td>NaN</td>\n      <td>NaN</td>\n      <td>NaN</td>\n      <td>NaN</td>\n    </tr>\n    <tr>\n      <th>2020-07-21</th>\n      <td>688981.SH</td>\n      <td>78.30</td>\n      <td>82.89</td>\n      <td>77.77</td>\n      <td>78.63</td>\n      <td>79.17</td>\n      <td>-0.54</td>\n      <td>-0.6821</td>\n      <td>1618732.71</td>\n      <td>1.297766e+07</td>\n      <td>NaN</td>\n      <td>NaN</td>\n      <td>NaN</td>\n      <td>NaN</td>\n      <td>NaN</td>\n      <td>NaN</td>\n      <td>NaN</td>\n      <td>NaN</td>\n      <td>NaN</td>\n      <td>NaN</td>\n    </tr>\n    <tr>\n      <th>2020-07-20</th>\n      <td>688981.SH</td>\n      <td>77.19</td>\n      <td>80.51</td>\n      <td>70.02</td>\n      <td>79.17</td>\n      <td>77.06</td>\n      <td>2.11</td>\n      <td>2.7381</td>\n      <td>2285833.38</td>\n      <td>1.700523e+07</td>\n      <td>NaN</td>\n      <td>NaN</td>\n      <td>NaN</td>\n      <td>NaN</td>\n      <td>NaN</td>\n      <td>NaN</td>\n      <td>NaN</td>\n      <td>NaN</td>\n      <td>NaN</td>\n      <td>NaN</td>\n    </tr>\n    <tr>\n      <th>2020-07-17</th>\n      <td>688981.SH</td>\n      <td>79.00</td>\n      <td>84.90</td>\n      <td>75.00</td>\n      <td>77.06</td>\n      <td>82.92</td>\n      <td>-5.86</td>\n      <td>-7.0671</td>\n      <td>2194715.88</td>\n      <td>1.738815e+07</td>\n      <td>NaN</td>\n      <td>NaN</td>\n      <td>NaN</td>\n      <td>NaN</td>\n      <td>NaN</td>\n      <td>NaN</td>\n      <td>NaN</td>\n      <td>NaN</td>\n      <td>NaN</td>\n      <td>NaN</td>\n    </tr>\n    <tr>\n      <th>2020-07-16</th>\n      <td>688981.SH</td>\n      <td>95.00</td>\n      <td>95.00</td>\n      <td>80.00</td>\n      <td>82.92</td>\n      <td>27.46</td>\n      <td>55.46</td>\n      <td>201.9665</td>\n      <td>5521039.02</td>\n      <td>4.796717e+07</td>\n      <td>NaN</td>\n      <td>NaN</td>\n      <td>NaN</td>\n      <td>NaN</td>\n      <td>NaN</td>\n      <td>NaN</td>\n      <td>NaN</td>\n      <td>NaN</td>\n      <td>NaN</td>\n      <td>NaN</td>\n    </tr>\n  </tbody>\n</table>\n<p>157 rows × 20 columns</p>\n</div>"
     },
     "execution_count": 43,
     "metadata": {},
     "output_type": "execute_result"
    }
   ],
   "source": [
    "dfa=dfa.set_index('trade_date')#将trade_date列设置为行索引\n",
    "dfa\n"
   ],
   "metadata": {
    "collapsed": false,
    "pycharm": {
     "name": "#%%\n"
    }
   }
  },
  {
   "cell_type": "code",
   "execution_count": 44,
   "outputs": [
    {
     "data": {
      "text/plain": "              ts_code   open   high    low  close  pre_close  change  pct_chg  \\\ntrade_date                                                                      \n2021-03-09  688981.SH  56.50  56.56  53.57  54.58      56.66   -2.08  -3.6710   \n2021-03-08  688981.SH  58.99  59.16  56.58  56.66      58.52   -1.86  -3.1784   \n2021-03-05  688981.SH  58.00  58.91  57.71  58.52      59.31   -0.79  -1.3320   \n2021-03-04  688981.SH  60.31  61.60  58.96  59.31      58.67    0.64   1.0908   \n2021-03-03  688981.SH  58.21  58.80  57.80  58.67      58.49    0.18   0.3077   \n...               ...    ...    ...    ...    ...        ...     ...      ...   \n2020-10-21  688981.SH  59.69  59.80  56.92  57.65      59.50   -1.85  -3.1092   \n2020-10-20  688981.SH  59.70  59.98  58.40  59.50      60.28   -0.78  -1.2940   \n2020-10-19  688981.SH  58.49  61.10  57.76  60.28      58.21    2.07   3.5561   \n2020-10-16  688981.SH  59.50  59.86  57.70  58.21      57.30    0.91   1.5881   \n2020-10-15  688981.SH  56.20  59.86  56.20  57.30      55.96    1.34   2.3946   \n\n                  vol       amount     ma5      ma_v_5    ma10     ma_v_10  \\\ntrade_date                                                                   \n2021-03-09  295620.11  1630197.321  57.548  346840.106  57.279  321535.676   \n2021-03-08  299902.37  1735926.224  58.330  379723.316  57.560  318281.627   \n2021-03-05  281584.57  1642365.458  58.548  379065.710  57.642  323748.279   \n2021-03-04  621415.96  3751645.338  57.876  367356.998  57.630  324246.528   \n2021-03-03  235677.52  1375470.442  57.266  286231.096  57.493  320506.933   \n...               ...          ...     ...         ...     ...         ...   \n2020-10-21  351384.18  2041440.602  58.588  447570.502  56.419  434294.786   \n2020-10-20  350669.61  2070347.082  58.250  435062.304  55.663  428041.066   \n2020-10-19  590069.12  3529811.192  57.808  454066.400  54.707  448575.150   \n2020-10-16  380308.20  2224178.011  57.234  503302.666  54.049  409416.624   \n2020-10-15  565421.40  3296259.678  55.780  487793.960  53.678  394709.342   \n\n               ma20      ma_v_20     ma30      ma_v_30     ma60      ma_v_60  \ntrade_date                                                                    \n2021-03-09  56.2200  321406.7915  56.7003  332743.2793  57.5910  378105.3197  \n2021-03-08  56.2900  316733.3400  56.8970  338193.5693  57.6868  380936.4013  \n2021-03-05  56.3080  311809.4590  57.0643  350234.8923  57.7125  383863.5397  \n2021-03-04  56.1910  310640.7245  57.1670  361801.5340  57.7403  382844.4517  \n2021-03-03  56.0275  292387.0220  57.3280  364206.0937  57.7668  380483.4558  \n...             ...          ...      ...          ...      ...          ...  \n2020-10-21  55.6525  383596.6910  56.6107  441376.6027  65.6637  597707.2990  \n2020-10-20  55.5895  390521.5965  56.8673  440466.9350  66.0133  618829.7745  \n2020-10-19  55.3585  390329.6020  57.1067  439632.2673  66.3412  651082.5040  \n2020-10-16  55.1060  382527.2855  57.3233  433743.8547  66.6208  677826.6167  \n2020-10-15  54.8345  383032.0930  57.6240  442047.2813  67.0327  763505.4637  \n\n[98 rows x 20 columns]",
      "text/html": "<div>\n<style scoped>\n    .dataframe tbody tr th:only-of-type {\n        vertical-align: middle;\n    }\n\n    .dataframe tbody tr th {\n        vertical-align: top;\n    }\n\n    .dataframe thead th {\n        text-align: right;\n    }\n</style>\n<table border=\"1\" class=\"dataframe\">\n  <thead>\n    <tr style=\"text-align: right;\">\n      <th></th>\n      <th>ts_code</th>\n      <th>open</th>\n      <th>high</th>\n      <th>low</th>\n      <th>close</th>\n      <th>pre_close</th>\n      <th>change</th>\n      <th>pct_chg</th>\n      <th>vol</th>\n      <th>amount</th>\n      <th>ma5</th>\n      <th>ma_v_5</th>\n      <th>ma10</th>\n      <th>ma_v_10</th>\n      <th>ma20</th>\n      <th>ma_v_20</th>\n      <th>ma30</th>\n      <th>ma_v_30</th>\n      <th>ma60</th>\n      <th>ma_v_60</th>\n    </tr>\n    <tr>\n      <th>trade_date</th>\n      <th></th>\n      <th></th>\n      <th></th>\n      <th></th>\n      <th></th>\n      <th></th>\n      <th></th>\n      <th></th>\n      <th></th>\n      <th></th>\n      <th></th>\n      <th></th>\n      <th></th>\n      <th></th>\n      <th></th>\n      <th></th>\n      <th></th>\n      <th></th>\n      <th></th>\n      <th></th>\n    </tr>\n  </thead>\n  <tbody>\n    <tr>\n      <th>2021-03-09</th>\n      <td>688981.SH</td>\n      <td>56.50</td>\n      <td>56.56</td>\n      <td>53.57</td>\n      <td>54.58</td>\n      <td>56.66</td>\n      <td>-2.08</td>\n      <td>-3.6710</td>\n      <td>295620.11</td>\n      <td>1630197.321</td>\n      <td>57.548</td>\n      <td>346840.106</td>\n      <td>57.279</td>\n      <td>321535.676</td>\n      <td>56.2200</td>\n      <td>321406.7915</td>\n      <td>56.7003</td>\n      <td>332743.2793</td>\n      <td>57.5910</td>\n      <td>378105.3197</td>\n    </tr>\n    <tr>\n      <th>2021-03-08</th>\n      <td>688981.SH</td>\n      <td>58.99</td>\n      <td>59.16</td>\n      <td>56.58</td>\n      <td>56.66</td>\n      <td>58.52</td>\n      <td>-1.86</td>\n      <td>-3.1784</td>\n      <td>299902.37</td>\n      <td>1735926.224</td>\n      <td>58.330</td>\n      <td>379723.316</td>\n      <td>57.560</td>\n      <td>318281.627</td>\n      <td>56.2900</td>\n      <td>316733.3400</td>\n      <td>56.8970</td>\n      <td>338193.5693</td>\n      <td>57.6868</td>\n      <td>380936.4013</td>\n    </tr>\n    <tr>\n      <th>2021-03-05</th>\n      <td>688981.SH</td>\n      <td>58.00</td>\n      <td>58.91</td>\n      <td>57.71</td>\n      <td>58.52</td>\n      <td>59.31</td>\n      <td>-0.79</td>\n      <td>-1.3320</td>\n      <td>281584.57</td>\n      <td>1642365.458</td>\n      <td>58.548</td>\n      <td>379065.710</td>\n      <td>57.642</td>\n      <td>323748.279</td>\n      <td>56.3080</td>\n      <td>311809.4590</td>\n      <td>57.0643</td>\n      <td>350234.8923</td>\n      <td>57.7125</td>\n      <td>383863.5397</td>\n    </tr>\n    <tr>\n      <th>2021-03-04</th>\n      <td>688981.SH</td>\n      <td>60.31</td>\n      <td>61.60</td>\n      <td>58.96</td>\n      <td>59.31</td>\n      <td>58.67</td>\n      <td>0.64</td>\n      <td>1.0908</td>\n      <td>621415.96</td>\n      <td>3751645.338</td>\n      <td>57.876</td>\n      <td>367356.998</td>\n      <td>57.630</td>\n      <td>324246.528</td>\n      <td>56.1910</td>\n      <td>310640.7245</td>\n      <td>57.1670</td>\n      <td>361801.5340</td>\n      <td>57.7403</td>\n      <td>382844.4517</td>\n    </tr>\n    <tr>\n      <th>2021-03-03</th>\n      <td>688981.SH</td>\n      <td>58.21</td>\n      <td>58.80</td>\n      <td>57.80</td>\n      <td>58.67</td>\n      <td>58.49</td>\n      <td>0.18</td>\n      <td>0.3077</td>\n      <td>235677.52</td>\n      <td>1375470.442</td>\n      <td>57.266</td>\n      <td>286231.096</td>\n      <td>57.493</td>\n      <td>320506.933</td>\n      <td>56.0275</td>\n      <td>292387.0220</td>\n      <td>57.3280</td>\n      <td>364206.0937</td>\n      <td>57.7668</td>\n      <td>380483.4558</td>\n    </tr>\n    <tr>\n      <th>...</th>\n      <td>...</td>\n      <td>...</td>\n      <td>...</td>\n      <td>...</td>\n      <td>...</td>\n      <td>...</td>\n      <td>...</td>\n      <td>...</td>\n      <td>...</td>\n      <td>...</td>\n      <td>...</td>\n      <td>...</td>\n      <td>...</td>\n      <td>...</td>\n      <td>...</td>\n      <td>...</td>\n      <td>...</td>\n      <td>...</td>\n      <td>...</td>\n      <td>...</td>\n    </tr>\n    <tr>\n      <th>2020-10-21</th>\n      <td>688981.SH</td>\n      <td>59.69</td>\n      <td>59.80</td>\n      <td>56.92</td>\n      <td>57.65</td>\n      <td>59.50</td>\n      <td>-1.85</td>\n      <td>-3.1092</td>\n      <td>351384.18</td>\n      <td>2041440.602</td>\n      <td>58.588</td>\n      <td>447570.502</td>\n      <td>56.419</td>\n      <td>434294.786</td>\n      <td>55.6525</td>\n      <td>383596.6910</td>\n      <td>56.6107</td>\n      <td>441376.6027</td>\n      <td>65.6637</td>\n      <td>597707.2990</td>\n    </tr>\n    <tr>\n      <th>2020-10-20</th>\n      <td>688981.SH</td>\n      <td>59.70</td>\n      <td>59.98</td>\n      <td>58.40</td>\n      <td>59.50</td>\n      <td>60.28</td>\n      <td>-0.78</td>\n      <td>-1.2940</td>\n      <td>350669.61</td>\n      <td>2070347.082</td>\n      <td>58.250</td>\n      <td>435062.304</td>\n      <td>55.663</td>\n      <td>428041.066</td>\n      <td>55.5895</td>\n      <td>390521.5965</td>\n      <td>56.8673</td>\n      <td>440466.9350</td>\n      <td>66.0133</td>\n      <td>618829.7745</td>\n    </tr>\n    <tr>\n      <th>2020-10-19</th>\n      <td>688981.SH</td>\n      <td>58.49</td>\n      <td>61.10</td>\n      <td>57.76</td>\n      <td>60.28</td>\n      <td>58.21</td>\n      <td>2.07</td>\n      <td>3.5561</td>\n      <td>590069.12</td>\n      <td>3529811.192</td>\n      <td>57.808</td>\n      <td>454066.400</td>\n      <td>54.707</td>\n      <td>448575.150</td>\n      <td>55.3585</td>\n      <td>390329.6020</td>\n      <td>57.1067</td>\n      <td>439632.2673</td>\n      <td>66.3412</td>\n      <td>651082.5040</td>\n    </tr>\n    <tr>\n      <th>2020-10-16</th>\n      <td>688981.SH</td>\n      <td>59.50</td>\n      <td>59.86</td>\n      <td>57.70</td>\n      <td>58.21</td>\n      <td>57.30</td>\n      <td>0.91</td>\n      <td>1.5881</td>\n      <td>380308.20</td>\n      <td>2224178.011</td>\n      <td>57.234</td>\n      <td>503302.666</td>\n      <td>54.049</td>\n      <td>409416.624</td>\n      <td>55.1060</td>\n      <td>382527.2855</td>\n      <td>57.3233</td>\n      <td>433743.8547</td>\n      <td>66.6208</td>\n      <td>677826.6167</td>\n    </tr>\n    <tr>\n      <th>2020-10-15</th>\n      <td>688981.SH</td>\n      <td>56.20</td>\n      <td>59.86</td>\n      <td>56.20</td>\n      <td>57.30</td>\n      <td>55.96</td>\n      <td>1.34</td>\n      <td>2.3946</td>\n      <td>565421.40</td>\n      <td>3296259.678</td>\n      <td>55.780</td>\n      <td>487793.960</td>\n      <td>53.678</td>\n      <td>394709.342</td>\n      <td>54.8345</td>\n      <td>383032.0930</td>\n      <td>57.6240</td>\n      <td>442047.2813</td>\n      <td>67.0327</td>\n      <td>763505.4637</td>\n    </tr>\n  </tbody>\n</table>\n<p>98 rows × 20 columns</p>\n</div>"
     },
     "execution_count": 44,
     "metadata": {},
     "output_type": "execute_result"
    }
   ],
   "source": [
    "dfa=dfa.dropna()#删除所有包含缺失值的行\n",
    "dfa"
   ],
   "metadata": {
    "collapsed": false,
    "pycharm": {
     "name": "#%%\n"
    }
   }
  },
  {
   "cell_type": "code",
   "execution_count": 45,
   "outputs": [
    {
     "name": "stdout",
     "output_type": "stream",
     "text": [
      "['2021-03-01 00:00:00', '2021-01-19 00:00:00', '2020-12-15 00:00:00', '2020-11-12 00:00:00', '2020-10-26 00:00:00']\n",
      "['2021-03-03 00:00:00', '2021-02-18 00:00:00', '2020-12-31 00:00:00', '2020-12-04 00:00:00', '2020-10-28 00:00:00']\n"
     ]
    }
   ],
   "source": [
    "#用循环找出金叉和死叉\n",
    "jincha=[]\n",
    "shicha=[]\n",
    "for i in range(1,len(dfa)):\n",
    "    if dfa['ma5'][i] >= dfa['ma10'][i] and dfa['ma5'][i-1] < dfa['ma10'][i-1]:\n",
    "        jincha.append(str(dfa.index[i]))\n",
    "    if dfa['ma5'][i] <= dfa['ma10'][i] and dfa['ma5'][i-1] > dfa['ma10'][i-1]:\n",
    "        shicha.append(str(dfa.index[i]))\n",
    "\n",
    "print(jincha)\n",
    "print(shicha)"
   ],
   "metadata": {
    "collapsed": false,
    "pycharm": {
     "name": "#%%\n"
    }
   }
  }
 ],
 "metadata": {
  "kernelspec": {
   "name": "pycharm-945c63af",
   "language": "python",
   "display_name": "PyCharm (python_study)"
  },
  "language_info": {
   "codemirror_mode": {
    "name": "ipython",
    "version": 2
   },
   "file_extension": ".py",
   "mimetype": "text/x-python",
   "name": "python",
   "nbconvert_exporter": "python",
   "pygments_lexer": "ipython2",
   "version": "2.7.6"
  }
 },
 "nbformat": 4,
 "nbformat_minor": 0
}